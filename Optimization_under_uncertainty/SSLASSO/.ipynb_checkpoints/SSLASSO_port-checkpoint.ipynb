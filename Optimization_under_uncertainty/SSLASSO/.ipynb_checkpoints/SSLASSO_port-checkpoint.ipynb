{
 "cells": [
  {
   "cell_type": "code",
   "execution_count": 10,
   "id": "3db827b3-7646-46e0-8197-fff0d595b293",
   "metadata": {},
   "outputs": [],
   "source": [
    "import os\n",
    "from pathlib import Path\n",
    "import ctypes"
   ]
  },
  {
   "cell_type": "code",
   "execution_count": 11,
   "id": "a4636c26-9873-4b11-9b65-fa86685df4d5",
   "metadata": {},
   "outputs": [],
   "source": [
    "# Load the shared library\n",
    "c_lib = ctypes.CDLL('./SSLASSO/src/little_example.so')\n",
    "\n",
    "# Define argument and return types for the C_add function\n",
    "c_lib.C_add.argtypes = (ctypes.POINTER(ctypes.c_double), ctypes.POINTER(ctypes.c_double))\n",
    "c_lib.C_add.restype = ctypes.c_double\n",
    "\n",
    "# Python Wrapper\n",
    "def C_add(a, b):\n",
    "    a = ctypes.c_double(a)\n",
    "    b = ctypes.c_double(b)\n",
    "    result = c_lib.C_add(ctypes.byref(a), ctypes.byref(b))\n",
    "    return result\n",
    "\n"
   ]
  },
  {
   "cell_type": "code",
   "execution_count": 12,
   "id": "b46a983b-69ad-4d8a-a74b-cc85614093db",
   "metadata": {},
   "outputs": [
    {
     "name": "stdout",
     "output_type": "stream",
     "text": [
      "The sum of 3.4 and 5.5 is 8.90\n"
     ]
    }
   ],
   "source": [
    "# Call the C_add function\n",
    "a = 3.4\n",
    "b = 5.5\n",
    "sum_result = C_add(a, b)\n",
    "\n",
    "print(f\"The sum of {a} and {b} is {sum_result:.2f}\")"
   ]
  }
 ],
 "metadata": {
  "kernelspec": {
   "display_name": "diff",
   "language": "python",
   "name": "diff"
  },
  "language_info": {
   "codemirror_mode": {
    "name": "ipython",
    "version": 3
   },
   "file_extension": ".py",
   "mimetype": "text/x-python",
   "name": "python",
   "nbconvert_exporter": "python",
   "pygments_lexer": "ipython3",
   "version": "3.10.12"
  }
 },
 "nbformat": 4,
 "nbformat_minor": 5
}
