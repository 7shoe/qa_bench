{
 "cells": [
  {
   "cell_type": "code",
   "execution_count": 1,
   "id": "fb518156-060c-450c-b9d5-347d28480bdb",
   "metadata": {},
   "outputs": [],
   "source": [
    "import sys\n",
    "import numpy as np\n",
    "import inspect\n",
    "import math\n",
    "import re\n",
    "\n",
    "from matplotlib import pyplot as plt\n",
    "\n",
    "# import\n",
    "if('models' not in sys.path):\n",
    "    sys.path.append('models')\n",
    "\n",
    "from BOCS import BOCS\n",
    "from Oracle import Oracle\n",
    "from HorseshoeBayesReg import HorseshoeBayesReg\n",
    "from utils import get_alpha, expand"
   ]
  },
  {
   "cell_type": "code",
   "execution_count": 2,
   "id": "07f2b656-9073-4ba8-ad8b-67f585055511",
   "metadata": {},
   "outputs": [
    {
     "name": "stdout",
     "output_type": "stream",
     "text": [
      "CPU times: user 15min 49s, sys: 28min 14s, total: 44min 3s\n",
      "Wall time: 48.1 s\n"
     ]
    }
   ],
   "source": [
    "%%time \n",
    "\n",
    "# Hyperparameters\n",
    "n = 150\n",
    "d = 18\n",
    "k = 2\n",
    "sigma_eps = 0.3\n",
    "\n",
    "np.random.seed(490)\n",
    "\n",
    "# Oracle\n",
    "alpha  = get_alpha(d=d, k=k, p_zero=0.9)\n",
    "f      = lambda x : sum([x_i*a_i for x_i, a_i in zip(x, alpha)])\n",
    "o1     = Oracle(fun=f, x_dim=len(alpha), sigma=sigma_eps, max_eval=10**5) \n",
    "\n",
    "# Data\n",
    "X      = np.random.binomial(n=1, p=0.5, size=n*d).reshape(n,-1)\n",
    "y      = np.random.normal(expand(X, k) @ alpha, scale=sigma_eps)\n",
    "\n",
    "# BOCS\n",
    "b1 = BOCS(n_sim=100, oracle=o1, d=X.shape[1], k=2, afo='SDP', kind='min', alpha_GT=alpha, standardizeX=True)\n",
    "b1.fit(X, y)\n",
    "b1.run(N=20, refitFreq=1)"
   ]
  },
  {
   "cell_type": "code",
   "execution_count": 3,
   "id": "6f96d52f-b644-4c80-89b4-97f05caf053a",
   "metadata": {},
   "outputs": [
    {
     "data": {
      "text/plain": [
       "[<matplotlib.lines.Line2D at 0x1528d01f6bc0>]"
      ]
     },
     "execution_count": 3,
     "metadata": {},
     "output_type": "execute_result"
    },
    {
     "data": {
      "image/png": "[encoded data removed]",
      "text/plain": [
       "<Figure size 640x480 with 1 Axes>"
      ]
     },
     "metadata": {},
     "output_type": "display_data"
    }
   ],
   "source": [
    "plt.plot(b1.get_result('f_opt'))"
   ]
  },
  {
   "cell_type": "code",
   "execution_count": null,
   "id": "4516809c-4458-428a-b8ab-e1637cca999a",
   "metadata": {},
   "outputs": [],
   "source": [
    "b1.oracle.f_max, b1.oracle.f_min"
   ]
  },
  {
   "cell_type": "code",
   "execution_count": null,
   "id": "f0fa965c-0a44-4bc9-93b6-a13568e1f6bd",
   "metadata": {},
   "outputs": [],
   "source": [
    "b1.f_opt"
   ]
  }
 ],
 "metadata": {
  "kernelspec": {
   "display_name": "diff",
   "language": "python",
   "name": "diff"
  },
  "language_info": {
   "codemirror_mode": {
    "name": "ipython",
    "version": 3
   },
   "file_extension": ".py",
   "mimetype": "text/x-python",
   "name": "python",
   "nbconvert_exporter": "python",
   "pygments_lexer": "ipython3",
   "version": "3.10.12"
  }
 },
 "nbformat": 4,
 "nbformat_minor": 5
}
