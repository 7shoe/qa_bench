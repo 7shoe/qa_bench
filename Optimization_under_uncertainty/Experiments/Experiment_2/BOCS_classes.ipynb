{
 "cells": [
  {
   "cell_type": "code",
   "execution_count": 2,
   "id": "3d630f2c-69df-400c-9884-9d3e4e7889d8",
   "metadata": {},
   "outputs": [],
   "source": [
    "from pydantic import BaseModel\n",
    "from typing import Iterable\n",
    "\n",
    "import os, math\n",
    "import numpy as np\n",
    "import scipy\n",
    "import cvxpy as cvx"
   ]
  },
  {
   "cell_type": "code",
   "execution_count": 3,
   "id": "c23a099f-c258-4b68-b74f-82aadb0f38d1",
   "metadata": {},
   "outputs": [],
   "source": [
    "class Oracle(BaseModel):\n",
    "    \"\"\"Function f that is to be queried\"\"\"\n",
    "    f:Iterable\n",
    "    \"\"\"Number of queries to the oracle function as of now\"\"\"\n",
    "    n:int=0\n",
    "    \"\"\"Maximumg number of queries allowed\"\"\"\n",
    "    n_max:int=-1\n",
    "    \"\"\"Flag indicating of noise is to be added\"\"\"\n",
    "    noiseFlag:bool=False\n",
    "     \"\"\"Standard deviation of noise\"\"\"\n",
    "    eps_sigma:float=0.0\n",
    "        \n",
    "class BayesReg(BaseModel):\n",
    "    \"\"\"Prior distribution\"\"\"\n",
    "    prior:str='horseshoe'\n",
    "    \"\"\"Number of samples drawn from Gibbs/MCMC sampler\"\"\"\n",
    "    n_sample:int=1000\n",
    "    \"\"\"Number of features (excluding intercept) the model expects\"\"\"\n",
    "    d:int\n",
    "    \"\"\"Highest order of interactions the model allows (0: const, 1:linear, 2:default)\"\"\"\n",
    "    k:int=2\n",
    "    \"\"\"Device accelerator on which to put the model (training)\"\"\"\n",
    "    device:int='cpu'\n",
    "    \n",
    "class BOCS(BaseModel):\n",
    "    \"\"\"What type of optimization is to be run on the objective\"\"\"\n",
    "    kind:str='max'\n",
    "    \"\"\"Acquisition function optimization\"\"\"\n",
    "    afo:str='EI'\n",
    "    \"\"\"Type of acquisition function optimization (AFO) solver leveraged\"\"\"\n",
    "    opt:str='sdp'\n",
    "    \"\"\"Initial number of datapoints\"\"\"\n",
    "    n0:int\n",
    "    \"\"\"Number of samples drawn during Bayesian Optimization\"\"\"\n",
    "    n:int\n",
    "    \n",
    "class Enumeration(BaseModel):\n",
    "    \"\"\"Maximum number of features up to which all combinations of {0,1}^d are generated\"\"\"\n",
    "    d_max:int=20\n",
    "    \"\"\"Number of random solutions sampled (if number of features exceeds d_max)\"\"\"\n",
    "    N_sample:int=10**6\n",
    "    "
   ]
  },
  {
   "cell_type": "code",
   "execution_count": 3,
   "id": "7e745e82-4791-41be-8090-808c391593c5",
   "metadata": {},
   "outputs": [],
   "source": [
    "# Class (Sparse) Bayesian Regression\n",
    "\n",
    "# -> copy from local machine"
   ]
  },
  {
   "cell_type": "code",
   "execution_count": 4,
   "id": "dd9bbbc8-35b7-4d46-938b-d7e433433ec1",
   "metadata": {},
   "outputs": [],
   "source": [
    "# Class BOCS (SDP, SA, ...)\n",
    "\n",
    "# -> copy from local machine + notebook in this dir"
   ]
  },
  {
   "cell_type": "code",
   "execution_count": null,
   "id": "b084b320-0cd0-47d6-8ad7-c66d1b5c46e8",
   "metadata": {},
   "outputs": [],
   "source": []
  }
 ],
 "metadata": {
  "kernelspec": {
   "display_name": "diff",
   "language": "python",
   "name": "diff"
  },
  "language_info": {
   "codemirror_mode": {
    "name": "ipython",
    "version": 3
   },
   "file_extension": ".py",
   "mimetype": "text/x-python",
   "name": "python",
   "nbconvert_exporter": "python",
   "pygments_lexer": "ipython3",
   "version": "3.10.11"
  }
 },
 "nbformat": 4,
 "nbformat_minor": 5
}
