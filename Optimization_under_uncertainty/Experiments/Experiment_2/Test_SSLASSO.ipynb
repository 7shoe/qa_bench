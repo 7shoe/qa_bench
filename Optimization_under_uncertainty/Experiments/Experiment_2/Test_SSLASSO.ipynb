{
 "cells": [
  {
   "cell_type": "code",
   "execution_count": 1,
   "id": "007c52ae-9d03-4976-b4ec-861e381c359e",
   "metadata": {},
   "outputs": [],
   "source": [
    "import numpy as np\n",
    "import time\n",
    "import math\n",
    "from typing import Tuple\n",
    "from matplotlib import pyplot as plt\n",
    "\n",
    "# import\n",
    "if('models' not in sys.path):\n",
    "    sys.path.append('models')\n",
    "\n",
    "from HorseshoeBayesReg import HorseshoeBayesReg\n",
    "from SSLASSO import SSLASSO\n",
    "from Oracle import Oracle\n",
    "from utils import get_alpha, expand"
   ]
  },
  {
   "cell_type": "code",
   "execution_count": 3,
   "id": "a15f0b47-0e92-4902-8a27-235348279ce7",
   "metadata": {},
   "outputs": [],
   "source": [
    "N = 500\n",
    "n = 250\n",
    "d = 3\n",
    "k = 2\n",
    "sigma_eps = 0.01\n",
    "\n",
    "np.random.seed(1534)\n",
    "\n",
    "# Oracle\n",
    "alpha  = get_alpha(d=d, k=k, p_zero=0.0, dist='cauchy')\n",
    "f      = lambda x : sum([x_i*a_i for x_i, a_i in zip([1] + x.tolist(), alpha)])\n",
    "o1     = Oracle(fun=f, alpha=alpha, x_dim=d, sigma=sigma_eps, max_eval=10**5) \n",
    "\n",
    "# Data\n",
    "X      = np.random.binomial(n=1, p=0.5, size=n*d).reshape(n,-1)\n",
    "y      = o1.f(X)\n",
    "\n",
    "# SSLASSO\n",
    "ss1 = SSLASSO()\n",
    "ss1.fit(X,y, method='MAP')\n",
    "alpha_ss = ss1.model_estimate()\n",
    "\n",
    "# Horseshoe\n",
    "#hs1 = HorseshoeBayesReg()\n",
    "#hs1.fit(X,y)\n",
    "#alpha_hs = hs1.model_estimate()"
   ]
  },
  {
   "cell_type": "code",
   "execution_count": 4,
   "id": "aca516d8-7c34-4eca-a559-21d2de5b33e6",
   "metadata": {},
   "outputs": [
    {
     "data": {
      "text/plain": [
       "array([ 0.       ,  0.       , -2.79559  ,  0.2395727,  0.3352523,\n",
       "        0.       ,  0.       ])"
      ]
     },
     "execution_count": 4,
     "metadata": {},
     "output_type": "execute_result"
    }
   ],
   "source": [
    "alpha_ss"
   ]
  },
  {
   "cell_type": "code",
   "execution_count": null,
   "id": "0b26661f-124c-4eb6-8593-e65e11dba3f1",
   "metadata": {},
   "outputs": [],
   "source": [
    "hs1.model_estimate().round(2)"
   ]
  },
  {
   "cell_type": "code",
   "execution_count": null,
   "id": "0a074de7-e3f8-45ee-b157-92690e56775e",
   "metadata": {},
   "outputs": [],
   "source": [
    "ss1.model_estimate().round(2)"
   ]
  },
  {
   "cell_type": "code",
   "execution_count": null,
   "id": "7e8dbdcf-4450-4d1a-bdf4-cac063ca9ba4",
   "metadata": {},
   "outputs": [],
   "source": [
    "plt.bar(range(0, 3*len(alpha),3), alpha, color='black')\n",
    "plt.bar(range(1, 3*len(alpha),3), alpha_ss, color='red')\n",
    "plt.bar(range(2, 3*len(alpha),3), alpha_hs, color='green')\n",
    "plt.ylim(-5,5)\n",
    "plt.show()"
   ]
  }
 ],
 "metadata": {
  "kernelspec": {
   "display_name": "diff",
   "language": "python",
   "name": "diff"
  },
  "language_info": {
   "codemirror_mode": {
    "name": "ipython",
    "version": 3
   },
   "file_extension": ".py",
   "mimetype": "text/x-python",
   "name": "python",
   "nbconvert_exporter": "python",
   "pygments_lexer": "ipython3",
   "version": "3.10.12"
  }
 },
 "nbformat": 4,
 "nbformat_minor": 5
}
