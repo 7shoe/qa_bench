{
 "cells": [
  {
   "cell_type": "code",
   "execution_count": 2,
   "id": "fb518156-060c-450c-b9d5-347d28480bdb",
   "metadata": {},
   "outputs": [
    {
     "ename": "ImportError",
     "evalue": "cannot import name 'expand' from 'utils' (unknown location)",
     "output_type": "error",
     "traceback": [
      "\u001b[0;31m---------------------------------------------------------------------------\u001b[0m",
      "\u001b[0;31mImportError\u001b[0m                               Traceback (most recent call last)",
      "Cell \u001b[0;32mIn[2], line 14\u001b[0m\n\u001b[1;32m     11\u001b[0m \u001b[38;5;28;01mif\u001b[39;00m(\u001b[38;5;124m'\u001b[39m\u001b[38;5;124m./models\u001b[39m\u001b[38;5;124m'\u001b[39m \u001b[38;5;129;01mnot\u001b[39;00m \u001b[38;5;129;01min\u001b[39;00m sys\u001b[38;5;241m.\u001b[39mpath):\n\u001b[1;32m     12\u001b[0m     sys\u001b[38;5;241m.\u001b[39mpath\u001b[38;5;241m.\u001b[39mappend(\u001b[38;5;124m'\u001b[39m\u001b[38;5;124m./models\u001b[39m\u001b[38;5;124m'\u001b[39m)\n\u001b[0;32m---> 14\u001b[0m \u001b[38;5;28;01mfrom\u001b[39;00m \u001b[38;5;21;01mBOCS\u001b[39;00m \u001b[38;5;28;01mimport\u001b[39;00m BOCS\n\u001b[1;32m     15\u001b[0m \u001b[38;5;28;01mfrom\u001b[39;00m \u001b[38;5;21;01mOracle\u001b[39;00m \u001b[38;5;28;01mimport\u001b[39;00m Oracle\n\u001b[1;32m     16\u001b[0m \u001b[38;5;28;01mfrom\u001b[39;00m \u001b[38;5;21;01mHorseshoeBayesReg\u001b[39;00m \u001b[38;5;28;01mimport\u001b[39;00m HorseshoeBayesReg\n",
      "File \u001b[0;32m~/Projects/Optimization_under_uncertainty/Experiments/Experiment_2/./models/BOCS.py:6\u001b[0m\n\u001b[1;32m      3\u001b[0m \u001b[38;5;28;01mimport\u001b[39;00m \u001b[38;5;21;01mnumpy\u001b[39;00m \u001b[38;5;28;01mas\u001b[39;00m \u001b[38;5;21;01mnp\u001b[39;00m\n\u001b[1;32m      4\u001b[0m \u001b[38;5;28;01mimport\u001b[39;00m \u001b[38;5;21;01mmath\u001b[39;00m\n\u001b[0;32m----> 6\u001b[0m \u001b[38;5;28;01mfrom\u001b[39;00m \u001b[38;5;21;01mBO\u001b[39;00m \u001b[38;5;28;01mimport\u001b[39;00m BayesianOptimization\n\u001b[1;32m      7\u001b[0m \u001b[38;5;28;01mfrom\u001b[39;00m \u001b[38;5;21;01mOracle\u001b[39;00m \u001b[38;5;28;01mimport\u001b[39;00m Oracle\n\u001b[1;32m      8\u001b[0m \u001b[38;5;28;01mfrom\u001b[39;00m \u001b[38;5;21;01mSDP\u001b[39;00m \u001b[38;5;28;01mimport\u001b[39;00m SDP\n",
      "File \u001b[0;32m~/Projects/Optimization_under_uncertainty/Experiments/Experiment_2/./models/BO.py:8\u001b[0m\n\u001b[1;32m      5\u001b[0m \u001b[38;5;28;01mimport\u001b[39;00m \u001b[38;5;21;01mtime\u001b[39;00m\n\u001b[1;32m      7\u001b[0m \u001b[38;5;28;01mfrom\u001b[39;00m \u001b[38;5;21;01mOracle\u001b[39;00m \u001b[38;5;28;01mimport\u001b[39;00m Oracle\n\u001b[0;32m----> 8\u001b[0m \u001b[38;5;28;01mfrom\u001b[39;00m \u001b[38;5;21;01mutils\u001b[39;00m \u001b[38;5;28;01mimport\u001b[39;00m expand\n\u001b[1;32m     10\u001b[0m \u001b[38;5;28;01mclass\u001b[39;00m \u001b[38;5;21;01mBayesianOptimization\u001b[39;00m(ABC):\n\u001b[1;32m     11\u001b[0m     \u001b[38;5;28;01mdef\u001b[39;00m \u001b[38;5;21m__init__\u001b[39m(\u001b[38;5;28mself\u001b[39m, oracle:Oracle, kind:\u001b[38;5;28mstr\u001b[39m\u001b[38;5;241m=\u001b[39m\u001b[38;5;124m'\u001b[39m\u001b[38;5;124mmin\u001b[39m\u001b[38;5;124m'\u001b[39m, n_sim:\u001b[38;5;28mint\u001b[39m\u001b[38;5;241m=\u001b[39m\u001b[38;5;241m100\u001b[39m, burnin:\u001b[38;5;28mint\u001b[39m\u001b[38;5;241m=\u001b[39m\u001b[38;5;241m50\u001b[39m, thinning:\u001b[38;5;28mint\u001b[39m\u001b[38;5;241m=\u001b[39m\u001b[38;5;241m1\u001b[39m, seed:\u001b[38;5;28mint\u001b[39m\u001b[38;5;241m=\u001b[39m\u001b[38;5;241m9973\u001b[39m, standardizeX:\u001b[38;5;28mbool\u001b[39m\u001b[38;5;241m=\u001b[39m\u001b[38;5;28;01mTrue\u001b[39;00m, alpha_GT:np\u001b[38;5;241m.\u001b[39marray\u001b[38;5;241m=\u001b[39m\u001b[38;5;28;01mNone\u001b[39;00m):\n",
      "\u001b[0;31mImportError\u001b[0m: cannot import name 'expand' from 'utils' (unknown location)"
     ]
    }
   ],
   "source": [
    "import sys\n",
    "import numpy as np\n",
    "import inspect\n",
    "import math\n",
    "import re\n",
    "\n",
    "from matplotlib import pyplot as plt\n",
    "\n",
    "# import\n",
    "if('models' not in sys.path):\n",
    "    sys.path.append('models')\n",
    "\n",
    "from BOCS import BOCS\n",
    "from Oracle import Oracle\n",
    "from HorseshoeBayesReg import HorseshoeBayesReg\n",
    "from utils import get_alpha, expand"
   ]
  },
  {
   "cell_type": "code",
   "execution_count": null,
   "id": "07f2b656-9073-4ba8-ad8b-67f585055511",
   "metadata": {},
   "outputs": [],
   "source": [
    "%%time \n",
    "\n",
    "# Hyperparameters\n",
    "n = 150\n",
    "d = 18\n",
    "k = 2\n",
    "sigma_eps = 0.3\n",
    "\n",
    "np.random.seed(490)\n",
    "\n",
    "# Oracle\n",
    "alpha  = get_alpha(d=d, k=k, p_zero=0.9)\n",
    "f      = lambda x : sum([x_i*a_i for x_i, a_i in zip(x, alpha)])\n",
    "o1     = Oracle(fun=f, x_dim=len(alpha), sigma=sigma_eps, max_eval=10**5) \n",
    "\n",
    "# Data\n",
    "X      = np.random.binomial(n=1, p=0.5, size=n*d).reshape(n,-1)\n",
    "y      = np.random.normal(expand(X, k) @ alpha, scale=sigma_eps)\n",
    "\n",
    "# BOCS\n",
    "b1 = BOCS(n_sim=100, oracle=o1, d=X.shape[1], k=2, afo='SDP', kind='min', alpha_GT=alpha, standardizeX=True)\n",
    "b1.fit(X, y)\n",
    "b1.run(N=20, refitFreq=1)"
   ]
  },
  {
   "cell_type": "code",
   "execution_count": null,
   "id": "6f96d52f-b644-4c80-89b4-97f05caf053a",
   "metadata": {},
   "outputs": [],
   "source": [
    "plt.plot(b1.get_result('f_opt'))"
   ]
  },
  {
   "cell_type": "code",
   "execution_count": null,
   "id": "4516809c-4458-428a-b8ab-e1637cca999a",
   "metadata": {},
   "outputs": [],
   "source": [
    "b1.oracle.f_max, b1.oracle.f_min"
   ]
  },
  {
   "cell_type": "code",
   "execution_count": null,
   "id": "f0fa965c-0a44-4bc9-93b6-a13568e1f6bd",
   "metadata": {},
   "outputs": [],
   "source": [
    "b1.f_opt"
   ]
  }
 ],
 "metadata": {
  "kernelspec": {
   "display_name": "diff",
   "language": "python",
   "name": "diff"
  },
  "language_info": {
   "codemirror_mode": {
    "name": "ipython",
    "version": 3
   },
   "file_extension": ".py",
   "mimetype": "text/x-python",
   "name": "python",
   "nbconvert_exporter": "python",
   "pygments_lexer": "ipython3",
   "version": "3.10.12"
  }
 },
 "nbformat": 4,
 "nbformat_minor": 5
}
