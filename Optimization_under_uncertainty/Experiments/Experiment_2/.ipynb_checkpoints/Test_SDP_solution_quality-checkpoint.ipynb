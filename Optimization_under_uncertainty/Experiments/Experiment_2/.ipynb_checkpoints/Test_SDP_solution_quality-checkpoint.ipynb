{
 "cells": [
  {
   "cell_type": "markdown",
   "id": "d204a34f-f864-414e-812e-a67890e528fd",
   "metadata": {},
   "source": [
    "# Test SDP Solution Quality"
   ]
  },
  {
   "cell_type": "code",
   "execution_count": 1,
   "id": "6bb2efca-1685-4189-80f3-2569035d9490",
   "metadata": {},
   "outputs": [],
   "source": [
    "from SDP import SDP\n",
    "from utils import expand\n",
    "import numpy as np\n",
    "import math"
   ]
  },
  {
   "cell_type": "code",
   "execution_count": null,
   "id": "282de3f2-3adf-4d3e-a909-c15fbb3154a1",
   "metadata": {},
   "outputs": [],
   "source": [
    "# Simulation study\n",
    "N_sim       = 250\n",
    "d_list      = np.random.choice(range(2,8), size=N_sim)\n",
    "loc_list    = np.random.uniform(-5, 5,  size=N_sim)\n",
    "scale_list  = np.random.uniform(0.3, 7.5, size=N_sim) \n",
    "dist_list   = np.random.choice(['normal', 'gamma', 'laplace'], size=N_sim)\n",
    "\n",
    "# lists\n",
    "f_min_hat_list = []\n",
    "f_max_hat_list = []\n",
    "f_min_list = []\n",
    "f_max_list = []\n",
    "\n",
    "# loop\n",
    "for (d, loc, scale, dist) in zip(d_list, loc_list, scale_list, dist_list):\n",
    "    # inferred parameter size\n",
    "    p = 1 + d + math.comb(d,2)\n",
    "    if(dist=='normal'):\n",
    "        alpha = np.random.normal(size=p, loc=loc, scale=scale)\n",
    "    elif(dist=='gamma'):\n",
    "        alpha = np.random.gamma(size=p, shape=scale)\n",
    "    else:\n",
    "        alpha = np.random.laplace(size=p, loc=loc, scale=scale)\n",
    "        \n",
    "    # round\n",
    "    alpha = alpha.round(3)\n",
    "\n",
    "    # enumerate B^{d}\n",
    "    bin_grid = np.array(np.meshgrid(*[[0, 1]] * p)).T.reshape(-1, p)\n",
    "    f_values = bin_grid @ alpha\n",
    "    f_min, f_max = min(f_values), max(f_values)\n",
    "    \n",
    "    # - append groundtruth\n",
    "    f_min_list.append(f_min)\n",
    "    f_max_list.append(f_max)\n",
    "\n",
    "    # Solve SDP\n",
    "    f_min_hat = SDP(d, 'min', reg_lambda=2).run(alpha)[0]\n",
    "    f_max_hat = SDP(d, 'max', reg_lambda=2).run(alpha)[0]\n",
    "\n",
    "    # append SDP solutions\n",
    "    f_min_hat_list.append(f_min_hat)\n",
    "    f_max_hat_list.append(f_max_hat)\n",
    "    \n",
    "# r estimate\n",
    "r_max_list = [f_val_hat / f_val for (f_val_hat, f_val) in zip(f_max_hat_list, f_max_list) if f_val>0]\n",
    "r_min_list = [f_val_hat / f_val for (f_val_hat, f_val) in zip(f_min_hat_list, f_min_list) if f_val!=0]"
   ]
  },
  {
   "cell_type": "code",
   "execution_count": null,
   "id": "03cfb6cd-5440-449d-97a4-4313e915e7f8",
   "metadata": {},
   "outputs": [],
   "source": [
    "np.quantile([r for r in r_max_list + r_min_list if r > 0], q=0.1)"
   ]
  }
 ],
 "metadata": {
  "kernelspec": {
   "display_name": "diff",
   "language": "python",
   "name": "diff"
  },
  "language_info": {
   "codemirror_mode": {
    "name": "ipython",
    "version": 3
   },
   "file_extension": ".py",
   "mimetype": "text/x-python",
   "name": "python",
   "nbconvert_exporter": "python",
   "pygments_lexer": "ipython3",
   "version": "3.10.12"
  }
 },
 "nbformat": 4,
 "nbformat_minor": 5
}
