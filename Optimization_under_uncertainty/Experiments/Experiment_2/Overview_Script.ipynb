{
 "cells": [
  {
   "cell_type": "code",
   "execution_count": 1,
   "id": "dd033a5e-e068-4685-99a0-9eda76cfbc06",
   "metadata": {},
   "outputs": [],
   "source": [
    "# Auxiliary Script\n",
    "import numpy as np\n",
    "import time\n",
    "import inspect\n",
    "import math\n",
    "from typing import Tuple\n",
    "from matplotlib import pyplot as plt\n",
    "\n",
    "# import\n",
    "if('models' not in sys.path):\n",
    "    sys.path.append('models')\n",
    "\n",
    "from Oracle import Oracle\n",
    "from BOCS import BOCS\n",
    "from SS_BOCS import SS_BOCS\n",
    "from GeneticAlgo import GeneticAlgo\n",
    "from RandomSearch import RandomSearch\n",
    "from utils import get_alpha, expand"
   ]
  },
  {
   "cell_type": "code",
   "execution_count": 2,
   "id": "1b36d219-dff5-426c-a507-356dfe67aae4",
   "metadata": {},
   "outputs": [],
   "source": [
    "# Hyperparameters\n",
    "N = 200\n",
    "n = 180\n",
    "d =  40\n",
    "k =   2\n",
    "sigma_eps = 1.0\n",
    "\n",
    "np.random.seed(1534)\n",
    "\n",
    "# Oracle\n",
    "alpha  = get_alpha(d=d, k=k, p_zero=0.9, dist='gaussian', sigma=5)\n",
    "f      = lambda x : sum([a_i * x_i for (a_i,x_i) in zip(alpha, [1]+x.tolist())])\n",
    "o1     = Oracle(fun=f, alpha=alpha, x_dim=d, sigma=sigma_eps, max_eval=10**4) \n",
    "\n",
    "# Data\n",
    "X      = np.random.binomial(n=1, p=0.5, size=n*d).reshape(n,-1)\n",
    "y      = o1.f(X)"
   ]
  },
  {
   "cell_type": "code",
   "execution_count": 3,
   "id": "17284872-e02b-4d69-8556-759aa7567fe3",
   "metadata": {},
   "outputs": [
    {
     "name": "stdout",
     "output_type": "stream",
     "text": [
      "MODE :  \\hat<function <lambda> at 0x154904acde10>*_max\n",
      "- - - - - - -\n",
      "GA      : 57.88\n",
      "RS      : 18.54\n",
      "BOCS    : 93.68\n",
      "SS-BOCS : 93.22\n",
      "\n",
      "CPU times: user 2h 41min 55s, sys: 3h 3min 38s, total: 5h 45min 34s\n",
      "Wall time: 7min 1s\n"
     ]
    }
   ],
   "source": [
    "%%time\n",
    "\n",
    "mode = 'max'\n",
    "\n",
    "# Genetic Algorithm\n",
    "ga1 = GeneticAlgo(n_init=20, n_total=N, oracle=o1, mode=mode, p_mut=0.05)\n",
    "ga1.run()\n",
    "\n",
    "# Random Search\n",
    "rs1 = RandomSearch(d=d, n_total=N, oracle=o1, mode=mode)\n",
    "rs1.run()\n",
    "\n",
    "# BOCS\n",
    "b1 = BOCS(n_sim=100, burnin=20, oracle=o1, d=d, k=2, afo='SDP', mode=mode)\n",
    "b1.fit(X, y)\n",
    "b1.run(N=N-len(X))\n",
    "\n",
    "# SS-BOCS\n",
    "s1 = SS_BOCS(oracle=o1, d=d, k=2, mode='max', afo='SDP')\n",
    "s1.fit(X,y)\n",
    "s1.run(N=N-len(X))\n",
    "\n",
    "# moderate dimension, low sample size\n",
    "print(f'MODE :  \\hat{f}*_{mode}')\n",
    "print('- - - - - - -')\n",
    "print(f'GA      : {ga1.f_opt:.2f}')\n",
    "print(f'RS      : {rs1.f_opt:.2f}')\n",
    "print(f'BOCS    : {b1.f_opt:.2f}')\n",
    "print(f'SS-BOCS : {s1.f_opt:.2f}\\n')"
   ]
  },
  {
   "cell_type": "code",
   "execution_count": 4,
   "id": "52292e5b-bd56-435b-846a-bb9355cb7fff",
   "metadata": {},
   "outputs": [
    {
     "data": {
      "text/plain": [
       "(314, 69)"
      ]
     },
     "execution_count": 4,
     "metadata": {},
     "output_type": "execute_result"
    }
   ],
   "source": [
    "np.diff(b1.timestamps).sum(), np.diff(s1.timestamps).sum()"
   ]
  },
  {
   "cell_type": "markdown",
   "id": "e7a1d03c-6b6c-457c-a6dd-b26d04069ca7",
   "metadata": {
    "tags": []
   },
   "source": [
    "## 4 Scenarios\n",
    "- sample size low/high: 50, 250\n",
    "- dimension low/high:   10, 30\n",
    "\n",
    "#### Sparsity `0.3`, Distribution `normal`\n",
    "\n",
    "#### 1st scenario $d=10$, $N=50$\n",
    "\n",
    "```\n",
    "MODE :  max\n",
    "- - - - - - -\n",
    "GA   : 20.74\n",
    "RS   : 12.43\n",
    "BOCS* : 29.53\n",
    "```\n",
    "\n",
    "#### 2nd scenario $d=10$, $N=500$\n",
    "\n",
    "```\n",
    "MODE :  max\n",
    "- - - - - - -\n",
    "GA   : 20.74\n",
    "RS   : 13.04\n",
    "BOCS* : 29.73\n",
    "```\n",
    "#### 3rd scenario $d=20$, $N=50$\n",
    "\n",
    "```\n",
    "MODE :  max\n",
    "- - - - - - -\n",
    "GA   : 13.23\n",
    "RS   : 31.38\n",
    "BOCS* : 52.07\n",
    "```\n",
    "\n",
    "#### 4th scenario $d=20$, $N=500$\n",
    "\n",
    "```\n",
    "MODE :  max\n",
    "- - - - - - -\n",
    "GA    : 32.29\n",
    "RS    : 38.67\n",
    "BOCS* : 81.03\n",
    "```\n",
    "\n",
    "$N=250$, $d=20$\n",
    "```\n",
    "MODE :  max\n",
    "- - - - - - -\n",
    "GA      : 30.76\n",
    "RS      : 18.31\n",
    "BOCS    : 62.32\n",
    "SS-BOCS : 61.66\n",
    "```"
   ]
  },
  {
   "cell_type": "code",
   "execution_count": null,
   "id": "6a59943d-1ba9-445d-82af-546e246eb6d8",
   "metadata": {},
   "outputs": [],
   "source": [
    "b1.statistical_model.model_estimate().round()"
   ]
  },
  {
   "cell_type": "code",
   "execution_count": null,
   "id": "b748445d-47d0-41e5-89c7-6f20ffd3ce3e",
   "metadata": {},
   "outputs": [],
   "source": [
    "alpha.round()"
   ]
  },
  {
   "cell_type": "code",
   "execution_count": null,
   "id": "02f3a965-bae0-46b2-ad34-1d905e05f738",
   "metadata": {},
   "outputs": [],
   "source": []
  }
 ],
 "metadata": {
  "kernelspec": {
   "display_name": "diff",
   "language": "python",
   "name": "diff"
  },
  "language_info": {
   "codemirror_mode": {
    "name": "ipython",
    "version": 3
   },
   "file_extension": ".py",
   "mimetype": "text/x-python",
   "name": "python",
   "nbconvert_exporter": "python",
   "pygments_lexer": "ipython3",
   "version": "3.10.12"
  }
 },
 "nbformat": 4,
 "nbformat_minor": 5
}
