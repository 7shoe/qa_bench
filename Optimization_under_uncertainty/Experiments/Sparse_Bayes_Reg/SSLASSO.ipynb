{
 "cells": [
  {
   "cell_type": "code",
   "execution_count": 1,
   "id": "f4b40b6f-8fc0-47ec-b828-c640e7212c2f",
   "metadata": {},
   "outputs": [],
   "source": [
    "# Run sslasso from Python notebook\n",
    "import os\n",
    "import re\n",
    "import pandas as pd\n",
    "import numpy as np\n",
    "from pathlib import Path\n",
    "import subprocess\n",
    "from typing import Union, Any"
   ]
  },
  {
   "cell_type": "code",
   "execution_count": 2,
   "id": "4733e553-6cce-499a-92ff-4d2105c659bd",
   "metadata": {},
   "outputs": [
    {
     "data": {
      "text/plain": [
       "[]"
      ]
     },
     "execution_count": 2,
     "metadata": {},
     "output_type": "execute_result"
    }
   ],
   "source": [
    "os.listdir('/home/siebenschuh/Projects/Optimization_under_uncertainty/Experiments/Tmp')"
   ]
  },
  {
   "cell_type": "markdown",
   "id": "0b9ee5be-4b18-48d6-9968-205832e47bf1",
   "metadata": {},
   "source": [
    "## Use code below for `SSLASSO` regression model"
   ]
  },
  {
   "cell_type": "code",
   "execution_count": 38,
   "id": "ec68cfd3-e2af-40ba-afa9-a4756ab41e7b",
   "metadata": {},
   "outputs": [],
   "source": [
    "def parse_R_alpha(output:str):\n",
    "    \"\"\"\n",
    "    Parses the str-output of the SSLASSO method into the coefficient vector estimate `alpha` of length 1+p (incl. intercept)\n",
    "    \n",
    "    Args:\n",
    "        output (str)    :     String output from the R script running the SSLASSO routine representing the numeric vector. \n",
    "    Returns:\n",
    "        A 1-d NumPy array corresponding to the parameter estimate.\n",
    "    Raises:\n",
    "        AssertionError  :     If resulting \n",
    "    \"\"\"\n",
    "    \n",
    "    # remove square bracket integers and newlines\n",
    "    cleaned_str = re.sub(r'\\[\\d+\\]|\\n', '', output)\n",
    "\n",
    "    # extract numerical values\n",
    "    alpha_hat = np.array([float(val) for val in re.findall(r'-?\\d+\\.\\d+', cleaned_str)])\n",
    "    \n",
    "    assert alpha_hat.dtype==float, \"Parsed numpy array should be float vector.\"\n",
    "    \n",
    "    return alpha_hat\n",
    "\n",
    "\n",
    "\n",
    "def get_alpha_MAP(X:np.array,\n",
    "                  y:np.array,\n",
    "                  verbose:bool              = False, \n",
    "                  tmp_dir:Union[Path, str]  = './tmp',\n",
    "                  script_name:str           = 'sslasso_map.r',\n",
    "                  conda_env:str             = 'R',\n",
    "                  conda_path:str            = '/soft/datascience/conda/2022-09-08/mconda3/condabin/conda'):\n",
    "    \"\"\"\n",
    "    Wraps the MAP SSLASSO routine in R. Runs max a-posterior estimation for Spike & Slab LASSO returning an estimate for the coefficient vector alpha.\n",
    "    (Source: https://cran.r-project.org/web/packages/SSLASSO/SSLASSO.pdf)\n",
    "    \n",
    "    Args:\n",
    "        - X (np.array)       :    Design matrix (exogenous)\n",
    "        - y (np.array)       :    Vector of observations corresponding to X\n",
    "        - verbose (bool)     :    Indicates if more elaborate output is desired.\n",
    "        - tmp_dir (Path)     :    Directory in which `X` and `y` are stored so the R script can pick them up.\n",
    "        - script_name (str)  :    File name of the R script that runs SSLASSO.\n",
    "     \n",
    "    Returns:\n",
    "        - 1d NumPy array representing the MAP of the coefficinet vector alpha.\n",
    "    \n",
    "    Raises:\n",
    "        - AssertionError\n",
    "    \"\"\"\n",
    "\n",
    "    # check input format\n",
    "    assert X.ndim==2, \"Design matrix `X` should be a 2d numpy array.\"\n",
    "    assert y.ndim==1, \"Vector of responses `y` should be a 1d numpy array.\"\n",
    "    assert len(X)==len(y), \"Lengths of design matrix `X` and observation vector `y` must coincide.\"\n",
    "    assert os.path.isdir(tmp_dir), \"Directory to store `X`, `y` temporarily does not exist.\"\n",
    "    assert os.path.isfile(script_name), f\"The R script `{script_name}` does not exist.\"\n",
    "    assert conda_env in ['R'], \"Only valid conda env containing R utilities is `R`.\"\n",
    "    assert os.path.isfile(conda_path), f\"`conda_path` is invalid. {conda_path} does not exist\"\n",
    "\n",
    "    # store data temporarily\n",
    "    # - paths\n",
    "    X_path = Path(tmp_dir) / 'X_tmp.txt'\n",
    "    y_path = Path(tmp_dir) / 'y_tmp.txt'\n",
    "    \n",
    "    # - store\n",
    "    np.savetxt(X_path, X)\n",
    "    np.savetxt(y_path, y)\n",
    "    \n",
    "    # run R script (incl. conda environment activation)\n",
    "    command = [\n",
    "        conda_path, 'run', '-n', conda_env, 'Rscript',\n",
    "        script_name, X_path, y_path\n",
    "    ]\n",
    "\n",
    "    # Run the command and capture the output\n",
    "    output = None\n",
    "    try:\n",
    "        result = subprocess.run(command, stdout=subprocess.PIPE, stderr=subprocess.PIPE, text=True, check=True)\n",
    "        output = result.stdout\n",
    "        error_output = result.stderr\n",
    "    except subprocess.CalledProcessError as e:\n",
    "        error_output = e.stderr\n",
    "        \n",
    "    # delete tmp files\n",
    "    for file_path in [X_path, y_path]:\n",
    "        if(os.path.isfile(file_path)):\n",
    "            os.remove(file_path)\n",
    "\n",
    "    # Display the captured output\n",
    "    if(output):\n",
    "        alpha = parse_R_alpha(output)\n",
    "        if(verbose):\n",
    "            print(\"Output ok.\")\n",
    "        return alpha\n",
    "   \n",
    "    if(verbose):\n",
    "        print(\"Error Output:\")\n",
    "        print(error_output)\n",
    "    \n",
    "    return \n",
    "    \n"
   ]
  },
  {
   "cell_type": "code",
   "execution_count": 39,
   "id": "1220453d-5b3c-4265-a19a-9d7ea039944b",
   "metadata": {},
   "outputs": [],
   "source": [
    "## Linear regression, where p > n\n",
    "p = 1000\n",
    "n = 150\n",
    "\n",
    "# design matrix\n",
    "np.random.seed(5858)\n",
    "X = np.random.normal(loc=0,scale=3, size=n*(p+1)).reshape(n,-1)\n",
    "X[:,0]=1\n",
    "\n",
    "# alpha\n",
    "alpha     = np.random.normal(loc=0, scale=0.001, size=p+1).round(4)\n",
    "alpha[1]  = 4.0\n",
    "alpha[17] = -3.75\n",
    "alpha[36] = 2.5\n",
    "\n",
    "# simulate y (incl. additive Gaussian noise)\n",
    "y = np.random.normal(X @ alpha, scale=1.0)\n"
   ]
  },
  {
   "cell_type": "code",
   "execution_count": 50,
   "id": "9b54ba71-6e6b-4908-9735-7edea49c4e9d",
   "metadata": {},
   "outputs": [
    {
     "data": {
      "text/plain": [
       "PosixPath('/home/siebenschuh/Projects/Optimization_under_uncertainty/Experiments/Sparse_Bayes_Reg/../Tmp')"
      ]
     },
     "execution_count": 50,
     "metadata": {},
     "output_type": "execute_result"
    }
   ],
   "source": [
    "Path('../Tmp').absolute()"
   ]
  },
  {
   "cell_type": "code",
   "execution_count": 55,
   "id": "405de915-bf3d-4f0d-8c6e-a1d0bcb908b9",
   "metadata": {},
   "outputs": [
    {
     "data": {
      "text/plain": [
       "False"
      ]
     },
     "execution_count": 55,
     "metadata": {},
     "output_type": "execute_result"
    }
   ],
   "source": [
    "os.path.isdir('/home/siebenschuh/Projects/Optimization_under_uncertainty/Experiments/Sparse_Bayes_Reg/Experiment')"
   ]
  },
  {
   "cell_type": "code",
   "execution_count": 40,
   "id": "b26e860b-257d-448c-b44c-b68bd5d742ec",
   "metadata": {},
   "outputs": [],
   "source": [
    "alpha_hat = get_alpha_MAP(X=X, y=y)"
   ]
  },
  {
   "cell_type": "code",
   "execution_count": 41,
   "id": "1473eb70-fce5-47e3-9a4b-703736fb38bb",
   "metadata": {},
   "outputs": [
    {
     "data": {
      "text/plain": [
       "array([ 3.91651 , -3.697825,  2.414793])"
      ]
     },
     "execution_count": 41,
     "metadata": {},
     "output_type": "execute_result"
    }
   ],
   "source": [
    "alpha_hat[np.abs(alpha_hat)>1]"
   ]
  },
  {
   "cell_type": "code",
   "execution_count": null,
   "id": "f4db1b18-b492-469c-87c8-bcbd5ed06983",
   "metadata": {},
   "outputs": [],
   "source": []
  }
 ],
 "metadata": {
  "kernelspec": {
   "display_name": "diff",
   "language": "python",
   "name": "diff"
  },
  "language_info": {
   "codemirror_mode": {
    "name": "ipython",
    "version": 3
   },
   "file_extension": ".py",
   "mimetype": "text/x-python",
   "name": "python",
   "nbconvert_exporter": "python",
   "pygments_lexer": "ipython3",
   "version": "3.10.12"
  }
 },
 "nbformat": 4,
 "nbformat_minor": 5
}
