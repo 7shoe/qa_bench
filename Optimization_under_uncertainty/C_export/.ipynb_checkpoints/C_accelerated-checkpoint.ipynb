{
 "cells": [
  {
   "cell_type": "markdown",
   "id": "4eae3ad7-ba25-4375-974f-ec7b83d4e84b",
   "metadata": {},
   "source": [
    "# Run C Code"
   ]
  },
  {
   "cell_type": "code",
   "execution_count": 34,
   "id": "2cbe051c-9aa4-4f0f-aebe-4158eb78761e",
   "metadata": {},
   "outputs": [],
   "source": [
    "import os\n",
    "import numpy as np\n",
    "import scipy\n",
    "#from scipy.stats import halfcauchy "
   ]
  },
  {
   "cell_type": "markdown",
   "id": "c1a2b5e2-8afc-4a01-b31d-1eaad4a434fe",
   "metadata": {},
   "source": [
    "## Input Data"
   ]
  },
  {
   "cell_type": "code",
   "execution_count": 35,
   "id": "0c9f4f63-e8db-4281-84a5-c3b34adbfd3f",
   "metadata": {},
   "outputs": [],
   "source": [
    "# dimension\n",
    "n = 1000\n",
    "p = 50\n",
    "\n",
    "sigma_eps = 1.3\n",
    "\n",
    "# para\n",
    "np.random.seed(456)\n",
    "beta_gt = np.random.uniform(-5, 5, size=p).round(1)\n",
    "beta_gt[np.random.binomial(n=1, p=0.5, size=p)==1]=0\n",
    "\n",
    "# data\n",
    "X = np.random.normal(loc=0, scale=2, size=n*p).reshape(n,-1)\n",
    "y = np.random.normal(X@beta_gt, scale=sigma_eps)"
   ]
  },
  {
   "cell_type": "code",
   "execution_count": 36,
   "id": "186ca2f9-4446-4344-b00b-b502fd2f1779",
   "metadata": {},
   "outputs": [],
   "source": [
    "def HorseShoe_Gibbs(n_sim:int=100, burnin:int=0, thinning:int=1):\n",
    "    \"\"\"\n",
    "    Run Horshoe Gibbs sampler\n",
    "    \"\"\"\n",
    "    \n",
    "    # D0\n",
    "    n, p = X.shape\n",
    "\n",
    "    # setup values\n",
    "    alphas_out = np.zeros((p, 1))\n",
    "    s2_out     = np.zeros((1, 1))\n",
    "    t2_out     = np.zeros((1, 1))\n",
    "    l2_out     = np.zeros((p, 1))\n",
    "    \n",
    "    # sample priors\n",
    "    betas   = scipy.stats.halfcauchy.rvs(size=p)\n",
    "    tau_2   = scipy.stats.halfcauchy.rvs(size=1)                            \n",
    "    nu      = np.ones(p) \n",
    "    \n",
    "    sigma_2, xi = 1.0, 1.0\n",
    "    \n",
    "    # Gibbs sampler: run MCMC\n",
    "    for k in range(n_sim):\n",
    "        sigma = np.sqrt(sigma_2)\n",
    "\n",
    "        # alphas\n",
    "        # - Sigma_star\n",
    "        Sigma_star     = tau_2 * np.diag(betas**2) # Sigma_star\n",
    "        Sigma_star_inv = np.diag(1. / betas**2) * (1. / tau_2)\n",
    "        \n",
    "        # compute matrices A, L\n",
    "        A = X.T @ X + Sigma_star_inv\n",
    "        L = np.linalg.cholesky(A)\n",
    "\n",
    "        # compute conditional mean\n",
    "        cond_mu = np.linalg.solve(L.T, np.linalg.solve(L, X.T @ y))\n",
    "\n",
    "        # compute conditional covariance matrix\n",
    "        cond_cov = sigma_2 * np.linalg.inv(L.T) @ np.linalg.inv(L)\n",
    "        \n",
    "        # sample alphas from conditional Gaussian dist.\n",
    "        alphas = np.random.multivariate_normal(mean=cond_mu, cov=cond_cov, size=1).T[:,0]\n",
    "\n",
    "        # sigma_2\n",
    "        sigma_2 = scipy.stats.invgamma.rvs(0.5*(n + p), scale=0.5*(np.linalg.norm((y - X @ alphas), 2)**2 + (alphas.T @ Sigma_star_inv @ alphas)))\n",
    "\n",
    "        # - betas\n",
    "        betas = np.sqrt(scipy.stats.invgamma.rvs(np.ones(p), scale=(1. / nu) + (alphas**2)/(2 * sigma_2 * tau_2)))\n",
    "\n",
    "        # - tau_2\n",
    "        tau_2 = scipy.stats.invgamma.rvs(0.5*(p + 1), scale=1.0 / xi + (1. / (2. * sigma_2)) * sum(alphas**2 / betas**2), size=1)\n",
    "\n",
    "        # - nu\n",
    "        nu = scipy.stats.invgamma.rvs(np.ones(p), scale=1.0 + betas**(-2), size=p)\n",
    "\n",
    "        # - xi\n",
    "        xi = scipy.stats.invgamma.rvs(1.0, scale=1.0 + 1.0 / tau_2, size=1)\n",
    "        \n",
    "        # store samples\n",
    "        if k > burnin:\n",
    "            # - append\n",
    "            if(k%thinning==0):\n",
    "                alphas_out = np.append(arr=alphas_out, values=alphas.reshape(-1,1), axis=1)\n",
    "                s2_out = np.append(s2_out, sigma_2)\n",
    "                t2_out = np.append(t2_out, tau_2)\n",
    "                l2_out = np.append(arr=l2_out, values=betas.reshape(-1,1), axis=1)\n",
    "    \n",
    "    return alphas"
   ]
  },
  {
   "cell_type": "code",
   "execution_count": 37,
   "id": "72960e0a-b40d-4b67-bb0f-b4f3319c0109",
   "metadata": {},
   "outputs": [
    {
     "data": {
      "text/plain": [
       "array([-2.5, -3.4,  2.8,  3. ,  0. , -0.1, -0.1, -0. ,  0. , -0. ,  0. ,\n",
       "       -1.1,  0.8, -3.5,  0. , -0.3,  0.7, -0. ,  0. ,  1.8,  0. , -3.8,\n",
       "       -0. , -4.9, -1.4, -3.5,  0.4,  3.6, -2.9,  0. , -0. ,  4.7,  0. ,\n",
       "        0. , -0.7, -0. , -0. , -0. , -0. , -0. , -0. , -0. , -0. ,  4. ,\n",
       "       -3.2,  0.9,  0. ,  1.5,  0. ,  0. ])"
      ]
     },
     "execution_count": 37,
     "metadata": {},
     "output_type": "execute_result"
    }
   ],
   "source": [
    "HorseShoe_Gibbs(n_sim=1000, burnin=100, thinning=2).round(1)"
   ]
  },
  {
   "cell_type": "code",
   "execution_count": 32,
   "id": "097bd7b1-6d4e-4241-a7ca-56003b73468b",
   "metadata": {},
   "outputs": [
    {
     "data": {
      "text/plain": [
       "array([-2.5, -3.4,  2.8,  3.1,  0. ,  0. ,  0. ,  0. ,  0. ,  0. ,  0. ,\n",
       "       -1.1,  0.8, -3.5,  0. , -0.3,  0.7,  0. ,  0. ,  1.8,  0. , -3.8,\n",
       "        0. , -4.9, -1.4, -3.5,  0.4,  3.6, -3. ,  0. ,  0. ,  4.7,  0. ,\n",
       "        0. , -0.7,  0. ,  0. ,  0. ,  0. ,  0. ,  0. ,  0. ,  0. ,  4. ,\n",
       "       -3.2,  0.9,  0. ,  1.5,  0. ,  0. ])"
      ]
     },
     "execution_count": 32,
     "metadata": {},
     "output_type": "execute_result"
    }
   ],
   "source": [
    "beta_gt"
   ]
  },
  {
   "cell_type": "code",
   "execution_count": null,
   "id": "1287db61-25fd-46d4-9dd1-37f9c54956eb",
   "metadata": {},
   "outputs": [],
   "source": []
  }
 ],
 "metadata": {
  "kernelspec": {
   "display_name": "pdfdetect3",
   "language": "python",
   "name": "pdfdetect3"
  },
  "language_info": {
   "codemirror_mode": {
    "name": "ipython",
    "version": 3
   },
   "file_extension": ".py",
   "mimetype": "text/x-python",
   "name": "python",
   "nbconvert_exporter": "python",
   "pygments_lexer": "ipython3",
   "version": "3.11.3"
  }
 },
 "nbformat": 4,
 "nbformat_minor": 5
}
